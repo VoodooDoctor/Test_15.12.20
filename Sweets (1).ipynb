{
 "cells": [
  {
   "cell_type": "code",
   "execution_count": 1,
   "metadata": {},
   "outputs": [
    {
     "name": "stdout",
     "output_type": "stream",
     "text": [
      "Введите список конфет через ,:a,b,c,a,a,d,e,a,b,c,d,e\n"
     ]
    }
   ],
   "source": [
    "sweets = str(input(\"Введите список конфет через ,:\")).split(',')"
   ]
  },
  {
   "cell_type": "markdown",
   "metadata": {},
   "source": [
    "Создание словаря на основе введенного списка конфет, состоящего из уникальных типов конфет и количества конфет каждого уникального типа:"
   ]
  },
  {
   "cell_type": "code",
   "execution_count": 2,
   "metadata": {},
   "outputs": [],
   "source": [
    "unique_sweets = ({k: sweets.count(k) for k in set(sweets)})"
   ]
  },
  {
   "cell_type": "markdown",
   "metadata": {},
   "source": [
    "Поиск ключа с минимальным значением, и присвоение новой переменной его значения (которое является максимальным возможным числом одинаковых наборов конфет) через удаление ключа:"
   ]
  },
  {
   "cell_type": "code",
   "execution_count": 3,
   "metadata": {},
   "outputs": [],
   "source": [
    "min_sweets = min(unique_sweets, key=unique_sweets.get)\n",
    "quantity_full_sets = unique_sweets.pop(min_sweets)"
   ]
  },
  {
   "cell_type": "code",
   "execution_count": 4,
   "metadata": {},
   "outputs": [
    {
     "name": "stdout",
     "output_type": "stream",
     "text": [
      "ТЕСТ: ['a', 'b', 'c', 'a', 'a', 'd', 'e', 'a', 'b', 'c', 'd', 'e'] Ответ 2\n"
     ]
    }
   ],
   "source": [
    "print('ТЕСТ:',sweets,'Ответ',quantity_full_sets)"
   ]
  }
 ],
 "metadata": {
  "kernelspec": {
   "display_name": "Python 3",
   "language": "python",
   "name": "python3"
  },
  "language_info": {
   "codemirror_mode": {
    "name": "ipython",
    "version": 3
   },
   "file_extension": ".py",
   "mimetype": "text/x-python",
   "name": "python",
   "nbconvert_exporter": "python",
   "pygments_lexer": "ipython3",
   "version": "3.8.3"
  }
 },
 "nbformat": 4,
 "nbformat_minor": 4
}
